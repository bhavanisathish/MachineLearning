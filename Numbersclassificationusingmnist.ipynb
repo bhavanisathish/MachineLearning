{
  "nbformat": 4,
  "nbformat_minor": 0,
  "metadata": {
    "colab": {
      "name": "keras09.ipynb",
      "provenance": [],
      "authorship_tag": "ABX9TyPqUjo8/evOVAezFPHTm8cn",
      "include_colab_link": true
    },
    "kernelspec": {
      "name": "python3",
      "display_name": "Python 3"
    }
  },
  "cells": [
    {
      "cell_type": "markdown",
      "metadata": {
        "id": "view-in-github",
        "colab_type": "text"
      },
      "source": [
        "<a href=\"https://colab.research.google.com/github/bhavanisathish/MachineLearning/blob/master/Numbersclassificationusingmnist.ipynb\" target=\"_parent\"><img src=\"https://colab.research.google.com/assets/colab-badge.svg\" alt=\"Open In Colab\"/></a>"
      ]
    },
    {
      "cell_type": "code",
      "metadata": {
        "id": "_J5FDLbIO-w1",
        "colab_type": "code",
        "colab": {}
      },
      "source": [
        "from keras.datasets import mnist\n",
        "from keras import layers\n",
        "from keras.layers import *\n",
        "from keras.models import *\n",
        "from keras.utils import np_utils"
      ],
      "execution_count": 52,
      "outputs": []
    },
    {
      "cell_type": "code",
      "metadata": {
        "id": "YnUsMMRJQ8dl",
        "colab_type": "code",
        "colab": {
          "base_uri": "https://localhost:8080/",
          "height": 136
        },
        "outputId": "5a19a45f-3f81-4886-da49-26feae88344d"
      },
      "source": [
        "(x_train,y_train),(x_test,y_test)=mnist.load_data()\n",
        "x = x_train\n",
        "print(\"Number of x training examples\",x_train.shape)\n",
        "print(\"number of y training examples\",y_train.shape)\n",
        "print(\"Number of x testing example\",x_test.shape)\n",
        "print(\"number of y testing examples\",y_test.shape)\n",
        "\n",
        "X_train = x_train.reshape(x_train.shape[0],x_test.shape[1],x_test.shape[2],1)\n",
        "X_test = x_test.reshape(x_test.shape[0],x_test.shape[1],x_test.shape[2],1)\n",
        "\n",
        "print(\"after reshaping\")\n",
        "print(\"Number of x training examples\",X_train.shape)\n",
        "print(\"Number of x testing example\",X_test.shape)\n"
      ],
      "execution_count": 53,
      "outputs": [
        {
          "output_type": "stream",
          "text": [
            "Number of x training examples (60000, 28, 28)\n",
            "number of y training examples (60000,)\n",
            "Number of x testing example (10000, 28, 28)\n",
            "number of y testing examples (10000,)\n",
            "after reshaping\n",
            "Number of x training examples (60000, 28, 28, 1)\n",
            "Number of x testing example (10000, 28, 28, 1)\n"
          ],
          "name": "stdout"
        }
      ]
    },
    {
      "cell_type": "code",
      "metadata": {
        "id": "8dg5oWUnRqav",
        "colab_type": "code",
        "colab": {
          "base_uri": "https://localhost:8080/",
          "height": 265
        },
        "outputId": "188325c5-1fff-4639-eb37-0ed0407c8904"
      },
      "source": [
        "#visualizing the data\n",
        "import numpy as np\n",
        "import matplotlib.pyplot as plt\n",
        "\n",
        "plt.imshow(x[3])\n",
        "plt.show()"
      ],
      "execution_count": 54,
      "outputs": [
        {
          "output_type": "display_data",
          "data": {
            "image/png": "[encoded data removed]",
            "text/plain": [
              "<Figure size 432x288 with 1 Axes>"
            ]
          },
          "metadata": {
            "tags": [],
            "needs_background": "light"
          }
        }
      ]
    },
    {
      "cell_type": "code",
      "metadata": {
        "id": "holCbMiRSe7C",
        "colab_type": "code",
        "colab": {
          "base_uri": "https://localhost:8080/",
          "height": 408
        },
        "outputId": "4bf8f547-9b3f-4acd-f0a5-20be01b20f29"
      },
      "source": [
        "X_train = X_train.astype('float32')\n",
        "X_test = X_test.astype('float32')\n",
        "\n",
        "# normalizing the data to help with the training\n",
        "X_train /= 255\n",
        "X_test /= 255\n",
        "\n",
        "# one-hot encoding using keras' numpy-related utilities\n",
        "n_classes = 10\n",
        "print(\"Shape before one-hot encoding: \", y_train.shape)\n",
        "Y_train = np_utils.to_categorical(y_train, n_classes)\n",
        "Y_test = np_utils.to_categorical(y_test, n_classes)\n",
        "print(\"Shape after one-hot encoding: \", Y_train.shape)\n",
        "\n",
        "# building a linear stack of layers with the sequential model\n",
        "model = Sequential()\n",
        "# convolutional layer\n",
        "model.add(Conv2D(25, kernel_size=(3,3), strides=(1,1), padding='valid', activation='relu', input_shape=(28,28,1)))\n",
        "model.add(MaxPool2D(pool_size=(1,1)))\n",
        "\n",
        "# flatten output of conv\n",
        "model.add(Flatten())\n",
        "# hidden layer\n",
        "model.add(Dense(100, activation='relu'))\n",
        "\n",
        "model.add(Dense(50, activation='relu'))\n",
        "\n",
        "# output layer\n",
        "model.add(Dense(10, activation='softmax'))\n",
        "\n",
        "# compiling the sequential model\n",
        "model.compile(loss='categorical_crossentropy', metrics=['accuracy'], optimizer='adam')\n",
        "\n",
        "# training the model for 10 epochs\n",
        "model.fit(X_train, Y_train, batch_size=128, epochs=10)"
      ],
      "execution_count": 55,
      "outputs": [
        {
          "output_type": "stream",
          "text": [
            "Shape before one-hot encoding:  (60000,)\n",
            "Shape after one-hot encoding:  (60000, 10)\n",
            "Epoch 1/10\n",
            "469/469 [==============================] - 37s 79ms/step - loss: 0.2051 - accuracy: 0.9404\n",
            "Epoch 2/10\n",
            "469/469 [==============================] - 37s 79ms/step - loss: 0.0564 - accuracy: 0.9833\n",
            "Epoch 3/10\n",
            "469/469 [==============================] - 36s 77ms/step - loss: 0.0324 - accuracy: 0.9899\n",
            "Epoch 4/10\n",
            "469/469 [==============================] - 36s 76ms/step - loss: 0.0219 - accuracy: 0.9931\n",
            "Epoch 5/10\n",
            "469/469 [==============================] - 36s 77ms/step - loss: 0.0139 - accuracy: 0.9958\n",
            "Epoch 6/10\n",
            "469/469 [==============================] - 36s 77ms/step - loss: 0.0103 - accuracy: 0.9967\n",
            "Epoch 7/10\n",
            "469/469 [==============================] - 36s 76ms/step - loss: 0.0069 - accuracy: 0.9979\n",
            "Epoch 8/10\n",
            "469/469 [==============================] - 36s 77ms/step - loss: 0.0076 - accuracy: 0.9973\n",
            "Epoch 9/10\n",
            "469/469 [==============================] - 36s 77ms/step - loss: 0.0054 - accuracy: 0.9984\n",
            "Epoch 10/10\n",
            "469/469 [==============================] - 36s 77ms/step - loss: 0.0049 - accuracy: 0.9983\n"
          ],
          "name": "stdout"
        },
        {
          "output_type": "execute_result",
          "data": {
            "text/plain": [
              "<tensorflow.python.keras.callbacks.History at 0x7fd8f57c9f28>"
            ]
          },
          "metadata": {
            "tags": []
          },
          "execution_count": 55
        }
      ]
    },
    {
      "cell_type": "code",
      "metadata": {
        "id": "r8xoYXrvcS_P",
        "colab_type": "code",
        "colab": {
          "base_uri": "https://localhost:8080/",
          "height": 85
        },
        "outputId": "c8784009-500a-402d-b13b-8d92e159a0fa"
      },
      "source": [
        "### START CODE HERE ### (1 line)\n",
        "\n",
        "preds =  model.evaluate(x = X_test, y = Y_test)\n",
        "### END CODE HERE ###\n",
        "print()\n",
        "print (\"Loss = \" + str(preds[0]))\n",
        "print (\"Test Accuracy = \" + str(preds[1]))"
      ],
      "execution_count": 56,
      "outputs": [
        {
          "output_type": "stream",
          "text": [
            "313/313 [==============================] - 3s 9ms/step - loss: 0.0636 - accuracy: 0.9848\n",
            "\n",
            "Loss = 0.06364945322275162\n",
            "Test Accuracy = 0.9847999811172485\n"
          ],
          "name": "stdout"
        }
      ]
    },
    {
      "cell_type": "code",
      "metadata": {
        "id": "Z0hAqeV1mheK",
        "colab_type": "code",
        "colab": {}
      },
      "source": [
        "import cv2\n",
        "file = '/content/seven.jpg'\n",
        "image = cv2.imread(file, cv2.IMREAD_GRAYSCALE)\n",
        "image = cv2.resize(image, (28,28))\n",
        "image = 255-image  \n",
        "\n",
        "image = image.astype('float32')\n",
        "image = image.reshape(1, 28, 28, 1)\n",
        "image = 255-image\n",
        "image /= 255"
      ],
      "execution_count": 92,
      "outputs": []
    },
    {
      "cell_type": "code",
      "metadata": {
        "id": "9pJdY8_ttB1c",
        "colab_type": "code",
        "colab": {
          "base_uri": "https://localhost:8080/",
          "height": 34
        },
        "outputId": "5eaf7514-f441-4a91-81f9-a04581e77ec9"
      },
      "source": [
        "pred = model.predict(image)\n",
        "\n",
        "print(pred.argmax())"
      ],
      "execution_count": 93,
      "outputs": [
        {
          "output_type": "stream",
          "text": [
            "7\n"
          ],
          "name": "stdout"
        }
      ]
    },
    {
      "cell_type": "code",
      "metadata": {
        "id": "nUMbx4k_1B1I",
        "colab_type": "code",
        "colab": {}
      },
      "source": [
        ""
      ],
      "execution_count": null,
      "outputs": []
    }
  ]
}